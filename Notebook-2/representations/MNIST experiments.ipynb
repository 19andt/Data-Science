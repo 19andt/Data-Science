{
 "cells": [
  {
   "cell_type": "code",
   "execution_count": 181,
   "metadata": {
    "collapsed": false
   },
   "outputs": [],
   "source": [
    "from __future__ import division\n",
    "%matplotlib inline\n",
    "import numpy as np\n",
    "import matplotlib.pyplot as plt\n",
    "from sklearn.base import BaseEstimator, ClassifierMixin\n",
    "from sklearn.preprocessing import LabelBinarizer\n",
    "from sklearn.utils import check_X_y\n",
    "from sklearn.utils import check_random_state\n",
    "from sklearn.utils import shuffle\n",
    "import theano\n",
    "import theano.tensor as tt\n",
    "from theano import shared\n",
    "from time import time\n",
    "from theano.sandbox.rng_mrg import MRG_RandomStreams as RandomStreams "
   ]
  },
  {
   "cell_type": "code",
   "execution_count": 182,
   "metadata": {
    "collapsed": false
   },
   "outputs": [
    {
     "name": "stdout",
     "output_type": "stream",
     "text": [
      "Loading dataset...\n",
      "Creating train-test split...\n"
     ]
    }
   ],
   "source": [
    "from sklearn.datasets import fetch_mldata\n",
    "from sklearn.utils import check_array\n",
    "from sklearn.cross_validation import train_test_split\n",
    "\n",
    "\n",
    "def load_data(dtype=np.float32, order='C'):\n",
    "    \"\"\"Load the data, then cache and memmap the train/test split\"\"\"\n",
    "    print(\"Loading dataset...\")\n",
    "    data = fetch_mldata('MNIST original')\n",
    "    X = check_array(data['data'], dtype=dtype, order=order)\n",
    "    y = data[\"target\"].astype(np.int32)\n",
    "    # Scale the features to [0, 1]\n",
    "    X = X / 255\n",
    "    ## Create train-test split (as [Joachims, 2006])\n",
    "    print(\"Creating train-test split...\")\n",
    "    n_train = 60000\n",
    "    X_train = X[:n_train]\n",
    "    y_train = y[:n_train]\n",
    "    X_test = X[n_train:]\n",
    "    y_test = y[n_train:]\n",
    "    return X_train, X_test, y_train, y_test\n",
    "\n",
    "X_dev, X_test, y_dev, y_test = load_data()\n",
    "\n",
    "# Create a small training set for faster experiments\n",
    "X_train, X_val, y_train, y_val = train_test_split(\n",
    "    X_dev, y_dev, test_size=int(1e3), random_state=0)"
   ]
  },
  {
   "cell_type": "markdown",
   "metadata": {},
   "source": [
    "## Various neural networks utilities\n",
    "\n",
    "Mostly taken from Alec Radford and Kyle Kastner's gists:\n",
    "\n",
    "- https://gist.github.com/Newmu/a56d5446416f5ad2bbac\n",
    "- https://gist.github.com/kastnerkyle/f3f67424adda343fef40"
   ]
  },
  {
   "cell_type": "code",
   "execution_count": 183,
   "metadata": {
    "collapsed": false
   },
   "outputs": [],
   "source": [
    "def sharedf32(X, dtype=np.float32, name=None):\n",
    "    return theano.shared(np.asarray(X, dtype=dtype), name=name)\n",
    "\n",
    "\n",
    "def softmax(x):\n",
    "    return tt.nnet.softmax(x)\n",
    "\n",
    "\n",
    "def relu(x):\n",
    "    return (x + abs(x)) / 2.0\n",
    "\n",
    "\n",
    "def tanh(x):\n",
    "    return tt.tanh(x)\n",
    "\n",
    "\n",
    "def sigmoid(x):\n",
    "    return tt.nnet.sigmoid(x)\n",
    "\n",
    "\n",
    "def linear(x):\n",
    "    return x\n",
    "\n",
    "\n",
    "def iter_data(*data, **kwargs):\n",
    "    batch_size = kwargs.get('batch_size', 128)\n",
    "    batches, remainder = divmod(len(data[0]), batch_size)\n",
    "    if remainder != 0:\n",
    "        batches += 1\n",
    "    for b in range(batches):\n",
    "        start = b * batch_size\n",
    "        end = (b + 1) * batch_size\n",
    "        if len(data) == 1:\n",
    "            yield data[0][start:end]\n",
    "        else:\n",
    "            yield tuple([d[start:end] for d in data])"
   ]
  },
  {
   "cell_type": "markdown",
   "metadata": {},
   "source": [
    "## Optimizers "
   ]
  },
  {
   "cell_type": "code",
   "execution_count": 184,
   "metadata": {
    "collapsed": false
   },
   "outputs": [],
   "source": [
    "# XXX: do not use this. it probably has a bug\n",
    "\n",
    "class Adam(object):\n",
    "    \"\"\"no bias init correction and no b1 decay\"\"\"\n",
    "    \n",
    "    def __init__(self, learning_rate=0.01, grad_momentum=0.1,\n",
    "                 sq_grad_momentum=0.001, eps=1e-8):\n",
    "        self.learning_rate = learning_rate\n",
    "        self.grad_momentum = grad_momentum\n",
    "        self.sq_grad_momentum = sq_grad_momentum\n",
    "        self.eps = eps\n",
    "\n",
    "    def make_updates(self, params, cost):\n",
    "        b1 = np.array(self.grad_momentum, dtype=np.float32)\n",
    "        b2 = np.array(self.sq_grad_momentum, dtype=np.float32)\n",
    "        lr = np.array(self.learning_rate, dtype=np.float32)\n",
    "        eps = np.array(self.eps, dtype=np.float32)\n",
    "        one = np.array(1, dtype=np.float32)\n",
    "        updates = []\n",
    "        grads = tt.grad(cost, params)\n",
    "        for p, g in zip(params, grads):\n",
    "            m = sharedf32(p.get_value() * 0., name='m')\n",
    "            v = sharedf32(p.get_value() * 0., name='v')\n",
    "            m_t = (b1 * g) + ((one - b1) * m)\n",
    "            v_t = (b2 * tt.sqr(g)) + ((one - b2) * v)\n",
    "            g_t = m_t / (tt.sqrt(v_t) + eps)\n",
    "            p_t = p - lr * g_t\n",
    "            updates.append((m, m_t))\n",
    "            updates.append((v, v_t))\n",
    "            updates.append((p, p_t))\n",
    "        return updates\n",
    "    \n",
    "\n",
    "class MomentumSGD(object):\n",
    "    \n",
    "    monitor = None\n",
    "    \n",
    "    def __init__(self, learning_rate_init=0.1, max_adaptation_count=3,\n",
    "                 learning_rate_scale=0.2, momentum=0.9, rescale=0.5):\n",
    "        self.learning_rate_init = learning_rate_init\n",
    "        self.max_adaptation_count = max_adaptation_count\n",
    "        self.learning_rate_scale = learning_rate_scale\n",
    "        self.momentum = momentum\n",
    "        self.rescale = rescale\n",
    "        \n",
    "    def on_stalled_convergence(self):\n",
    "        if self.adaptation_count > self.max_adaptation_count:\n",
    "            # Optimizer thinks model has converged\n",
    "            return False\n",
    "        \n",
    "        scale = np.array(self.learning_rate_scale, dtype=np.float32)\n",
    "        \n",
    "        # Rescale the learning rate\n",
    "        old_lr = self.learning_rate.get_value()\n",
    "        new_lr = old_lr * scale\n",
    "        self.learning_rate.set_value(new_lr)\n",
    "        self.adaptation_count += 1\n",
    "        print(\"Updated learning rate from %f to %f\" % (old_lr, new_lr))\n",
    "\n",
    "    def make_updates(self, params, cost):\n",
    "        self.adaptation_count = 0\n",
    "        self.learning_rate = sharedf32(self.learning_rate_init,\n",
    "                                       name='learning_rate')\n",
    "        momentum = np.array(self.momentum, dtype=np.float32)\n",
    "\n",
    "        updates = []\n",
    "        grads = tt.grad(cost, params)\n",
    "        for p, g in zip(params, grads):\n",
    "            if self.momentum > 0:\n",
    "                v = sharedf32(p.get_value() * 0., name='v')\n",
    "                v_t = momentum * v - self.learning_rate * g\n",
    "                p_t = p + v_t\n",
    "                updates.append((v, v_t))\n",
    "            else:\n",
    "                # traditional SGD\n",
    "                p_t = p - self.learning_rate * g\n",
    "            updates.append((p, p_t))\n",
    "        return updates\n",
    "\n",
    "    \n",
    "class NesterovMomentumSGD(MomentumSGD):\n",
    "\n",
    "    def make_updates(self, params, cost):\n",
    "        self.adaptation_count = 0\n",
    "        self.learning_rate = sharedf32(self.learning_rate_init,\n",
    "                                       name='learning_rate')\n",
    "        momentum = np.array(self.momentum, dtype=np.float32)\n",
    "        updates = []\n",
    "        grads = tt.grad(cost, params)\n",
    "#         grad_norm = tt.sqrt(sum(map(lambda x: tt.sqr(x).sum(), grads)))\n",
    "#         param_norm = tt.sqrt(sum(map(lambda x: tt.sqr(x).sum(), params)))\n",
    "#         rescale = np.array(self.rescale, dtype=np.float32)\n",
    "#         not_finite = tt.or_(tt.isnan(grad_norm), tt.isinf(grad_norm))\n",
    "#         scaling_num = rescale\n",
    "#         scaling_den = tt.maximum(rescale, grad_norm)\n",
    "    \n",
    "        tenth = np.array(0.1, dtype=np.float32)\n",
    "        for p, g in zip(params, grads):\n",
    "#             g = tt.switch(not_finite, tenth * p, g * (scaling_num / scaling_den))\n",
    "            v = sharedf32(p.get_value() * 0., name='v')\n",
    "            v_t = momentum * v - self.learning_rate * g\n",
    "            p_t = p + momentum * v_t - self.learning_rate * g\n",
    "            updates.append((v, v_t))\n",
    "            updates.append((p, p_t))\n",
    "        return updates\n",
    "#         return grad_norm, param_norm, updates"
   ]
  },
  {
   "cell_type": "markdown",
   "metadata": {},
   "source": [
    "## Orchestration"
   ]
  },
  {
   "cell_type": "code",
   "execution_count": 185,
   "metadata": {
    "collapsed": false
   },
   "outputs": [],
   "source": [
    "class EarlyStoppingMonitor(object):\n",
    "    def __init__(self, X_train, y_train, X_val=None, y_val=None, patience=5,\n",
    "                 data_log_filename=None, subsample=int(5e3), tol=1e-5, random_state=None):\n",
    "\n",
    "        X_train, y_train = check_X_y(X_train, y_train, dtype=np.float32)\n",
    "        y_train = y_train.astype(np.int32, copy=False)\n",
    "        self.label_binarizer_ = lb = LabelBinarizer().fit(y_train)\n",
    "\n",
    "        if subsample is not None and subsample < X_train.shape[0]:\n",
    "            X_train, y_train = shuffle(X_train, y_train, random_state=random_state)\n",
    "            X_train = X_train[:subsample]\n",
    "            y_train = y_train[:subsample]\n",
    "        self.X_train = X_train\n",
    "        self.y_train = y_train\n",
    "        self.Y_train = lb.transform(y_train).astype(np.float32)\n",
    "        self.tol = tol\n",
    "\n",
    "        if X_val is not None:\n",
    "            X_val, y_val = check_X_y(X_val, y_val, dtype=np.float32)\n",
    "            if subsample is not None and subsample < X_val.shape[0]:\n",
    "                X_val, y_val = shuffle(X_val, y_val,\n",
    "                                       random_state=random_state)\n",
    "                X_val = X_val[:subsample]\n",
    "                y_val = y_val[:subsample]\n",
    "            self.Y_val = lb.transform(y_val).astype(np.float32)\n",
    "        self.X_val = X_val\n",
    "        self.y_val = y_val\n",
    "\n",
    "        self.data_log_filename = data_log_filename\n",
    "        self.patience_reset = patience\n",
    "        self.reset()\n",
    "    \n",
    "    def reset(self):\n",
    "        self.best_cost = np.inf\n",
    "        self.patience = self.patience_reset\n",
    "        self.timestamp = time()\n",
    "    \n",
    "    def accuracy(self, y_true, output):\n",
    "        indices = output.argmax(axis=1)\n",
    "        return np.mean(self.label_binarizer_.classes_[indices] == y_true)\n",
    "        \n",
    "    def monitor(self, model, context):\n",
    "        duration = time() - self.timestamp\n",
    "        epoch = context.get('epoch')\n",
    "        optimizer = context.get('optimizer')\n",
    "        \n",
    "        training_out, training_cost = model._forward_and_cost(\n",
    "            self.X_train, self.y_train)\n",
    "        training_acc = self.accuracy(self.y_train, training_out)\n",
    "        if self.X_val is not None:\n",
    "            validation_out, validation_cost = model._forward_and_cost(\n",
    "                self.X_val, self.y_val)\n",
    "            validation_acc =  self.accuracy(self.y_val, validation_out)\n",
    "            current_cost = validation_cost      \n",
    "        else:\n",
    "            validation_cost = None\n",
    "            validation_acc = None\n",
    "            current_cost = training_cost\n",
    "\n",
    "        msg = \"Epoch #%03d, training cost: %0.6f, acc: %0.4f\" % (\n",
    "            epoch, training_cost, training_acc)\n",
    "        \n",
    "        if self.X_val is not None:\n",
    "            msg += \", validation cost: %0.6f, acc: %0.4f\" % (\n",
    "                validation_cost, validation_acc)\n",
    "        msg += \", duration: %0.3fs \" % duration\n",
    "        print(msg)\n",
    "\n",
    "        # Patience-based stopping condition\n",
    "        if current_cost < self.best_cost - self.tol:\n",
    "            self.patience = self.patience_reset\n",
    "            self.best_cost = current_cost\n",
    "        elif (hasattr(optimizer, 'on_stalled_convergence')\n",
    "              and not optimizer.on_stalled_convergence()):\n",
    "            # Optimizer has already had enough opportunities to adapt the\n",
    "            # learning rate in the past. We can start loosing patience.\n",
    "            self.patience -= 1\n",
    "        else:\n",
    "            # The optimizer does not use validation set convergence info,\n",
    "            # we can loose patience without notifying it.\n",
    "            self.patience -= 1\n",
    "\n",
    "        self.timestamp = time()\n",
    "        return self.patience > 0"
   ]
  },
  {
   "cell_type": "code",
   "execution_count": 186,
   "metadata": {
    "collapsed": true
   },
   "outputs": [],
   "source": [
    "def shuffle_columns(X, copy=True, random_state=None):\n",
    "    rng = check_random_state(random_state)\n",
    "    if copy:\n",
    "        X = X.copy()\n",
    "    for i in range(X.shape[1]):\n",
    "        rng.shuffle(X[:, i])\n",
    "    return X"
   ]
  },
  {
   "cell_type": "code",
   "execution_count": 248,
   "metadata": {
    "collapsed": false
   },
   "outputs": [],
   "source": [
    "class MLPClassifier(BaseEstimator, ClassifierMixin):\n",
    "    \n",
    "    def __init__(self, hidden=(100, 100), activation='relu', init_gain='auto',\n",
    "                 batch_size=128, optimizer=None,\n",
    "                 weight_decay=int(1e-5), warm_start=False,\n",
    "                 contrast_ratio=.5,\n",
    "                 max_iter=1000, random_state=None):\n",
    "        self.hidden = hidden\n",
    "        self.activation = activation\n",
    "        self.batch_size = batch_size\n",
    "        self.optimizer = optimizer\n",
    "        self.weight_decay = weight_decay\n",
    "        self.init_gain = init_gain\n",
    "        self.warm_start = warm_start\n",
    "        self.random_state = random_state\n",
    "        self.max_iter = max_iter\n",
    "        self.contrast_ratio = contrast_ratio\n",
    "        \n",
    "    def _init_parameters(self, n_features, n_outputs):\n",
    "        rng = check_random_state(self.random_state)\n",
    "        input_dims = (n_features,) + self.hidden\n",
    "        output_dims = self.hidden + (n_outputs,)\n",
    "\n",
    "        if self.init_gain == 'auto':\n",
    "            g = np.sqrt(2) if self.activation == 'relu' else 1.\n",
    "        else:\n",
    "            g = self.init_gain\n",
    "        \n",
    "        self.weights_ = []\n",
    "        self.biases_ = []\n",
    "        for l, (in_dim, out_dim) in enumerate(zip(input_dims, output_dims)):\n",
    "            std = g * np.sqrt(2 / (in_dim + out_dim))\n",
    "            W = sharedf32(rng.normal(size=(in_dim, out_dim), scale=std),\n",
    "                          name='W_%d' % l)\n",
    "            self.weights_.append(W)\n",
    "            b = sharedf32(np.zeros(out_dim), name='b_%d' % l)\n",
    "            self.biases_.append(b)\n",
    "        \n",
    "    def _make_functions(self, contrast_ratio):\n",
    "        x = tt.fmatrix(name='x')\n",
    "        y = tt.ivector(name='y')\n",
    "        contrast_activations = tt.fmatrix(name='contrast_activations')\n",
    "\n",
    "        # Define the computation graph of the model\n",
    "        if self.activation == 'relu':\n",
    "            sigma = relu\n",
    "        elif self.activation == 'tanh':\n",
    "            sigma = tanh\n",
    "        elif self.activation == 'linear':\n",
    "            sigma = linear\n",
    "        else:\n",
    "            raise ValueError('Unsupported activation: %s' % self.activation)\n",
    "        \n",
    "        transfer_funcs = [sigma] * (len(self.weights_) - 1) + [softmax]\n",
    "        n_layers = len(transfer_funcs)\n",
    "        activations = []\n",
    "        activation = x\n",
    "        for l, w, b, s in zip(range(n_layers), self.weights_,\n",
    "                              self.biases_, transfer_funcs):\n",
    "            activation = s(tt.dot(activation, w) + b)\n",
    "            activation.name = 'activations_%d' % l\n",
    "            activations.append(activation)\n",
    "        \n",
    "        output = activation\n",
    "        classification_cost = tt.nnet.categorical_crossentropy(output, y).mean()\n",
    "        contrast_cost = (tt.dot(activations[-2], contrast_activations.T) ** 2).mean()\n",
    "        \n",
    "        if contrast_ratio > 0 and contrast_ratio < 1:\n",
    "            cost = (1 - self.contrast_ratio) * classification_cost\n",
    "            cost += self.contrast_ratio * contrast_cost\n",
    "        elif contrast_ratio == 1:\n",
    "            cost = contrast_cost\n",
    "        else:\n",
    "            cost = classification_cost\n",
    "        \n",
    "        weight_decay = np.array(self.weight_decay, dtype=np.float32)\n",
    "        if self.weight_decay > 0:\n",
    "            for w in self.weights_:\n",
    "                cost += weight_decay * tt.sqr(w).sum()\n",
    "        \n",
    "        # Use the optimizer to compute the parameter updates based\n",
    "        # on the gradient of the cost function\n",
    "        opt = self.optimizer\n",
    "        if opt is None:\n",
    "            opt = Adam()\n",
    "\n",
    "        parameters = []\n",
    "        parameters += self.weights_\n",
    "        parameters += self.biases_\n",
    "#         grad_norm, param_norm, fit_updates = opt.make_updates(parameters, cost)\n",
    "        fit_updates = opt.make_updates(parameters, cost)\n",
    "        \n",
    "        # Compile the functions them-selves\n",
    "        f = theano.function\n",
    "        if contrast_ratio > 0 and contrast_ratio < 1:\n",
    "            self._fit = f([x, y, contrast_activations],\n",
    "              cost, updates=fit_updates, name='_fit')\n",
    "        elif contrast_ratio == 0:\n",
    "            self._fit = f([x, y], cost, updates=fit_updates, name='_fit')\n",
    "        else:\n",
    "            self._fit = f([x, contrast_activations],\n",
    "                          cost, updates=fit_updates, name='_fit')\n",
    "\n",
    "#         self._fit = f([x, y], (cost, grad_norm, param_norm),\n",
    "#                       updates=fit_updates, name='_fit')\n",
    "        self._forward_and_cost = f([x, y], (output, classification_cost), name=\"_forward_and_cost\")\n",
    "        self._forward = f([x], output, name=\"_forward\")\n",
    "        inputs = [x] + activations[:-1]\n",
    "        self._forward_funcs = []\n",
    "        for i, input_ in enumerate(inputs):\n",
    "            self._forward_funcs.append(f([input_], activations[i:],\n",
    "                                         name=\"_forward_activations_%d\" % i))\n",
    "        return opt\n",
    "    \n",
    "    def forward_shuffle(self, X, layer_idx=0, random_state=None):\n",
    "        if random_state is None:\n",
    "            random_state = self.random_state\n",
    "        if layer_idx == -1:\n",
    "            all_activations = []\n",
    "            activations = X.copy()\n",
    "        else:\n",
    "            all_activations = self._forward_funcs[0](X)\n",
    "            activations = all_activations[layer_idx]\n",
    "        shuffle_activations = shuffle_columns(activations, random_state=random_state)\n",
    "        after_shuffle_activations = self._forward_funcs[layer_idx + 1](shuffle_activations)\n",
    "        return all_activations[:layer_idx + 1] + [shuffle_activations] + after_shuffle_activations\n",
    "\n",
    "    def fit(self, X, y=None, monitor=None):\n",
    "        X, y = check_X_y(X, y, dtype=np.float32)\n",
    "        y = y.astype(np.int32, copy=False)\n",
    "        self.label_binarizer_ = lb = LabelBinarizer()\n",
    "        Y = lb.fit_transform(y).astype(np.float32)\n",
    "        n_samples, n_features = X.shape\n",
    "        _, n_outputs = Y.shape\n",
    "        if not self.warm_start or not hasattr(self, 'weights_') :\n",
    "            self._init_parameters(n_features, n_outputs)\n",
    "\n",
    "        contrast_ratio = self.contrast_ratio if y is not None else 1.\n",
    "        optimizer = self._make_functions(contrast_ratio)\n",
    "        self.training_costs_ = []\n",
    "        if monitor is not None:\n",
    "            monitor.reset()\n",
    "\n",
    "        try:\n",
    "            for epoch in range(self.max_iter):\n",
    "                if monitor is not None and not monitor.monitor(self, locals()):\n",
    "                    break\n",
    "                for X_batch, y_batch in iter_data(X, y, batch_size=self.batch_size):\n",
    "#                     cost, grad_norm, param_norm = self._fit(X_batch, y_batch)\n",
    "                    if self.contrast_ratio > 0:\n",
    "                        layer_idx = np.random.randint(-1, 2)\n",
    "                        contrast_activations = self.forward_shuffle(X_batch, layer_idx=layer_idx)[-2]\n",
    "                        cost = self._fit(X_batch, y_batch, contrast_activations)\n",
    "                    else:\n",
    "                        cost = self._fit(X_batch, y_batch)\n",
    "#                     print(grad_norm, param_norm)\n",
    "                    self.training_costs_.append(cost)\n",
    "        except KeyboardInterrupt:\n",
    "            print(\"Interruped by user\")\n",
    "\n",
    "        return self\n",
    "    \n",
    "    def predict_proba(self, X):\n",
    "        X = check_array(X, dtype=np.float32)\n",
    "        return self._forward(X)\n",
    "\n",
    "    def predict(self, X):\n",
    "        indices = self.predict_proba(X).argmax(axis=1)\n",
    "        return indices\n",
    "#         return self.label_binarizer_.classes_[indices]"
   ]
  },
  {
   "cell_type": "code",
   "execution_count": 260,
   "metadata": {
    "collapsed": false
   },
   "outputs": [
    {
     "name": "stdout",
     "output_type": "stream",
     "text": [
      "Epoch #000, training cost: 2.469210, acc: 0.0854, validation cost: 2.489720, acc: 0.0780, duration: 0.000s \n",
      "Epoch #001, training cost: 0.111276, acc: 0.9660, validation cost: 0.142365, acc: 0.9580, duration: 26.942s \n",
      "Epoch #002, training cost: 0.071616, acc: 0.9804, validation cost: 0.091475, acc: 0.9730, duration: 26.623s \n",
      "Epoch #003, training cost: 0.048391, acc: 0.9856, validation cost: 0.074663, acc: 0.9790, duration: 26.828s \n",
      "Interruped by user\n",
      "CPU times: user 3min 36s, sys: 4.89 s, total: 3min 41s\n",
      "Wall time: 1min 48s\n"
     ]
    }
   ],
   "source": [
    "%%time\n",
    "monitor = EarlyStoppingMonitor(X_train, y_train, X_val=X_val, y_val=y_val,\n",
    "                               patience=10, random_state=0)\n",
    "train_only_monitor = EarlyStoppingMonitor(X_train, y_train, random_state=0)\n",
    "\n",
    "optimizer = NesterovMomentumSGD(learning_rate_init=.1, learning_rate_scale=0.5, momentum=0.9)\n",
    "mlp = MLPClassifier(hidden=(1000, 1000), batch_size=128, weight_decay=1e-4,\n",
    "                    contrast_ratio=0.005,\n",
    "                    init_gain='auto', optimizer=optimizer, max_iter=100, random_state=0)\n",
    "mlp.fit(X_train, y_train, monitor=monitor)"
   ]
  },
  {
   "cell_type": "code",
   "execution_count": 261,
   "metadata": {
    "collapsed": false
   },
   "outputs": [
    {
     "name": "stdout",
     "output_type": "stream",
     "text": [
      "0.9753 0.0247\n"
     ]
    }
   ],
   "source": [
    "test_score = mlp.score(X_test, y_test)\n",
    "print(test_score, 1 - test_score)"
   ]
  },
  {
   "cell_type": "code",
   "execution_count": 262,
   "metadata": {
    "collapsed": false,
    "scrolled": true
   },
   "outputs": [
    {
     "data": {
      "image/png": "[encoded data removed]",
      "text/plain": [
       "<matplotlib.figure.Figure at 0x10cac0940>"
      ]
     },
     "metadata": {},
     "output_type": "display_data"
    },
    {
     "data": {
      "image/png": "[encoded data removed]",
      "text/plain": [
       "<matplotlib.figure.Figure at 0x10b5005c0>"
      ]
     },
     "metadata": {},
     "output_type": "display_data"
    },
    {
     "data": {
      "image/png": "[encoded data removed]",
      "text/plain": [
       "<matplotlib.figure.Figure at 0x10cc4b438>"
      ]
     },
     "metadata": {},
     "output_type": "display_data"
    },
    {
     "data": {
      "image/png": "[encoded data removed]",
      "text/plain": [
       "<matplotlib.figure.Figure at 0x10c06e4a8>"
      ]
     },
     "metadata": {},
     "output_type": "display_data"
    },
    {
     "data": {
      "image/png": "[encoded data removed]",
      "text/plain": [
       "<matplotlib.figure.Figure at 0x10cad8780>"
      ]
     },
     "metadata": {},
     "output_type": "display_data"
    }
   ],
   "source": [
    "for i in range(5):\n",
    "    plt.figure()\n",
    "    plt.imshow(mlp.weights_[0].get_value()[:, i].reshape(28, 28), cmap=plt.cm.Greys,\n",
    "           interpolation='nearest');"
   ]
  },
  {
   "cell_type": "code",
   "execution_count": 263,
   "metadata": {
    "collapsed": false
   },
   "outputs": [
    {
     "name": "stdout",
     "output_type": "stream",
     "text": [
      "CPU times: user 7.74 ms, sys: 206 µs, total: 7.94 ms\n",
      "Wall time: 5.24 ms\n"
     ]
    },
    {
     "data": {
      "text/plain": [
       "[(10, 1000), (10, 1000), (10, 1000), (10, 10)]"
      ]
     },
     "execution_count": 263,
     "metadata": {},
     "output_type": "execute_result"
    }
   ],
   "source": [
    "%%time\n",
    "[a.shape for a in mlp.forward_shuffle(X_train[:10], layer_idx=1)]"
   ]
  },
  {
   "cell_type": "code",
   "execution_count": 264,
   "metadata": {
    "collapsed": false
   },
   "outputs": [],
   "source": [
    "from sklearn.metrics.pairwise import cosine_similarity\n",
    "\n",
    "sims = cosine_similarity(out[:100], out_shuffled_activations[:100]).ravel()\n",
    "inner_sims = cosine_similarity(out[:100]).ravel()"
   ]
  },
  {
   "cell_type": "code",
   "execution_count": 85,
   "metadata": {
    "collapsed": false
   },
   "outputs": [
    {
     "data": {
      "image/png": "[encoded data removed]",
      "text/plain": [
       "<matplotlib.figure.Figure at 0x118f20e48>"
      ]
     },
     "metadata": {},
     "output_type": "display_data"
    }
   ],
   "source": [
    "bins = np.linspace(0, 1, 30)\n",
    "alpha = 0.3\n",
    "\n",
    "plt.hist(sims, bins=bins, alpha=alpha, label='sims with shuffle')\n",
    "plt.hist(inner_sims, bins=bins, alpha=alpha, label='inner sims')\n",
    "plt.legend(loc='best');"
   ]
  },
  {
   "cell_type": "code",
   "execution_count": 90,
   "metadata": {
    "collapsed": false
   },
   "outputs": [
    {
     "data": {
      "text/plain": [
       "0.63160000000000005"
      ]
     },
     "execution_count": 90,
     "metadata": {},
     "output_type": "execute_result"
    }
   ],
   "source": [
    "np.mean(sims > 0.01)"
   ]
  },
  {
   "cell_type": "code",
   "execution_count": 91,
   "metadata": {
    "collapsed": false
   },
   "outputs": [
    {
     "data": {
      "image/png": "[encoded data removed]",
      "text/plain": [
       "<matplotlib.figure.Figure at 0x10b14ae80>"
      ]
     },
     "metadata": {},
     "output_type": "display_data"
    }
   ],
   "source": [
    "bins = np.linspace(0, 1, 30)\n",
    "alpha = 0.3\n",
    "\n",
    "plt.hist(np.linalg.norm(out_shuffled_activations, axis=1), bins=bins, alpha=alpha, label='norm out with shuffle')\n",
    "plt.hist(np.linalg.norm(out, axis=1), bins=bins, alpha=alpha, label='norm out')\n",
    "plt.legend(loc='best');"
   ]
  },
  {
   "cell_type": "code",
   "execution_count": 50,
   "metadata": {
    "collapsed": false
   },
   "outputs": [
    {
     "data": {
      "text/plain": [
       "(59000,)"
      ]
     },
     "execution_count": 50,
     "metadata": {},
     "output_type": "execute_result"
    }
   ],
   "source": [
    "np.linalg.norm(out, axis=1).shape"
   ]
  },
  {
   "cell_type": "code",
   "execution_count": 224,
   "metadata": {
    "collapsed": false
   },
   "outputs": [],
   "source": [
    "x, y = tt.dmatrix('x'), tt.dmatrix('y')\n",
    "d = tt.dot(x, y.T)\n",
    "compute_dot = theano.function([x, y], d)"
   ]
  },
  {
   "cell_type": "code",
   "execution_count": 225,
   "metadata": {
    "collapsed": false
   },
   "outputs": [
    {
     "data": {
      "text/plain": [
       "array([[  14.,   38.,   62.],\n",
       "       [  38.,  126.,  214.],\n",
       "       [  62.,  214.,  366.]])"
      ]
     },
     "execution_count": 225,
     "metadata": {},
     "output_type": "execute_result"
    }
   ],
   "source": [
    "compute_dot(np.arange(12).reshape(3, 4) * 1., np.arange(12).reshape(3, 4) * 1.)"
   ]
  },
  {
   "cell_type": "code",
   "execution_count": null,
   "metadata": {
    "collapsed": true
   },
   "outputs": [],
   "source": []
  }
 ],
 "metadata": {
  "kernelspec": {
   "display_name": "Python 3",
   "language": "python",
   "name": "python3"
  },
  "language_info": {
   "codemirror_mode": {
    "name": "ipython",
    "version": 3
   },
   "file_extension": ".py",
   "mimetype": "text/x-python",
   "name": "python",
   "nbconvert_exporter": "python",
   "pygments_lexer": "ipython3",
   "version": "3.4.3"
  }
 },
 "nbformat": 4,
 "nbformat_minor": 0
}
